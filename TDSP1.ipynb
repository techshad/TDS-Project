{
 "cells": [
  {
   "cell_type": "code",
   "execution_count": 44,
   "id": "17871c8c-d5b7-4881-8fb2-c3f084deec73",
   "metadata": {},
   "outputs": [],
   "source": [
    "import pandas as pd\n",
    "import numpy as np\n",
    "import matplotlib.pyplot as plt"
   ]
  },
  {
   "cell_type": "markdown",
   "id": "7108a27f-97e8-4871-ae8d-c4c53a47dfe9",
   "metadata": {},
   "source": [
    "#### Q1.  Who are the top 5 users in Basel with the highest number of followers? List their login in order, comma-separated"
   ]
  },
  {
   "cell_type": "code",
   "execution_count": 47,
   "id": "4259def7-3934-411b-b441-64d7d24bd92c",
   "metadata": {},
   "outputs": [
    {
     "data": {
      "text/html": [
       "<div>\n",
       "<style scoped>\n",
       "    .dataframe tbody tr th:only-of-type {\n",
       "        vertical-align: middle;\n",
       "    }\n",
       "\n",
       "    .dataframe tbody tr th {\n",
       "        vertical-align: top;\n",
       "    }\n",
       "\n",
       "    .dataframe thead th {\n",
       "        text-align: right;\n",
       "    }\n",
       "</style>\n",
       "<table border=\"1\" class=\"dataframe\">\n",
       "  <thead>\n",
       "    <tr style=\"text-align: right;\">\n",
       "      <th></th>\n",
       "      <th>login</th>\n",
       "      <th>name</th>\n",
       "      <th>company</th>\n",
       "      <th>location</th>\n",
       "      <th>email</th>\n",
       "      <th>hireable</th>\n",
       "      <th>bio</th>\n",
       "      <th>public_repos</th>\n",
       "      <th>followers</th>\n",
       "      <th>following</th>\n",
       "      <th>created_at</th>\n",
       "      <th>leader_strength</th>\n",
       "    </tr>\n",
       "  </thead>\n",
       "  <tbody>\n",
       "    <tr>\n",
       "      <th>0</th>\n",
       "      <td>emmabostian</td>\n",
       "      <td>Emma Bostian</td>\n",
       "      <td>SPOTIFY</td>\n",
       "      <td>Stockholm, Sweden</td>\n",
       "      <td>NaN</td>\n",
       "      <td>False</td>\n",
       "      <td>Front-end Software Engineer @ Spotify\\r\\n</td>\n",
       "      <td>61</td>\n",
       "      <td>6475</td>\n",
       "      <td>15</td>\n",
       "      <td>2014-05-22 17:47:40+00:00</td>\n",
       "      <td>404.687500</td>\n",
       "    </tr>\n",
       "    <tr>\n",
       "      <th>1</th>\n",
       "      <td>emilk</td>\n",
       "      <td>Emil Ernerfeldt</td>\n",
       "      <td>RERUN.IO, EGUI</td>\n",
       "      <td>Stockholm, Sweden</td>\n",
       "      <td>emil.ernerfeldt@gmail.com</td>\n",
       "      <td>False</td>\n",
       "      <td>Rust coder, creator of egui, CTO of rerun.io</td>\n",
       "      <td>71</td>\n",
       "      <td>6266</td>\n",
       "      <td>21</td>\n",
       "      <td>2011-10-24 16:40:17+00:00</td>\n",
       "      <td>284.818182</td>\n",
       "    </tr>\n",
       "    <tr>\n",
       "      <th>2</th>\n",
       "      <td>mpj</td>\n",
       "      <td>Mattias Petter Johansson</td>\n",
       "      <td>FUN FUN FUNCTION</td>\n",
       "      <td>Stockholm, Sweden</td>\n",
       "      <td>NaN</td>\n",
       "      <td>True</td>\n",
       "      <td>NaN</td>\n",
       "      <td>142</td>\n",
       "      <td>5710</td>\n",
       "      <td>23</td>\n",
       "      <td>2008-07-22 10:20:27+00:00</td>\n",
       "      <td>237.916667</td>\n",
       "    </tr>\n",
       "    <tr>\n",
       "      <th>3</th>\n",
       "      <td>hrydgard</td>\n",
       "      <td>Henrik Rydgård</td>\n",
       "      <td>NaN</td>\n",
       "      <td>Stockholm, Sweden</td>\n",
       "      <td>hrydgard@gmail.com</td>\n",
       "      <td>False</td>\n",
       "      <td>NaN</td>\n",
       "      <td>60</td>\n",
       "      <td>5552</td>\n",
       "      <td>25</td>\n",
       "      <td>2009-09-24 18:40:26+00:00</td>\n",
       "      <td>213.538462</td>\n",
       "    </tr>\n",
       "    <tr>\n",
       "      <th>4</th>\n",
       "      <td>eriklindernoren</td>\n",
       "      <td>Erik Linder-Norén</td>\n",
       "      <td>NaN</td>\n",
       "      <td>Stockholm, Sweden</td>\n",
       "      <td>eriklindernoren@gmail.com</td>\n",
       "      <td>False</td>\n",
       "      <td>ML engineer at Apple. Excited about machine le...</td>\n",
       "      <td>24</td>\n",
       "      <td>5346</td>\n",
       "      <td>11</td>\n",
       "      <td>2014-06-24 16:31:53+00:00</td>\n",
       "      <td>445.500000</td>\n",
       "    </tr>\n",
       "  </tbody>\n",
       "</table>\n",
       "</div>"
      ],
      "text/plain": [
       "             login                      name           company  \\\n",
       "0      emmabostian              Emma Bostian           SPOTIFY   \n",
       "1            emilk           Emil Ernerfeldt    RERUN.IO, EGUI   \n",
       "2              mpj  Mattias Petter Johansson  FUN FUN FUNCTION   \n",
       "3         hrydgard            Henrik Rydgård               NaN   \n",
       "4  eriklindernoren         Erik Linder-Norén               NaN   \n",
       "\n",
       "            location                      email  hireable  \\\n",
       "0  Stockholm, Sweden                        NaN     False   \n",
       "1  Stockholm, Sweden  emil.ernerfeldt@gmail.com     False   \n",
       "2  Stockholm, Sweden                        NaN      True   \n",
       "3  Stockholm, Sweden         hrydgard@gmail.com     False   \n",
       "4  Stockholm, Sweden  eriklindernoren@gmail.com     False   \n",
       "\n",
       "                                                 bio  public_repos  followers  \\\n",
       "0          Front-end Software Engineer @ Spotify\\r\\n            61       6475   \n",
       "1       Rust coder, creator of egui, CTO of rerun.io            71       6266   \n",
       "2                                                NaN           142       5710   \n",
       "3                                                NaN            60       5552   \n",
       "4  ML engineer at Apple. Excited about machine le...            24       5346   \n",
       "\n",
       "   following                 created_at  leader_strength  \n",
       "0         15  2014-05-22 17:47:40+00:00       404.687500  \n",
       "1         21  2011-10-24 16:40:17+00:00       284.818182  \n",
       "2         23  2008-07-22 10:20:27+00:00       237.916667  \n",
       "3         25  2009-09-24 18:40:26+00:00       213.538462  \n",
       "4         11  2014-06-24 16:31:53+00:00       445.500000  "
      ]
     },
     "execution_count": 47,
     "metadata": {},
     "output_type": "execute_result"
    }
   ],
   "source": [
    "users = pd.read_csv('/Coding/Python/users.csv')\n",
    "users.head()"
   ]
  },
  {
   "cell_type": "code",
   "execution_count": 48,
   "id": "f37b7348-3978-4355-948f-8b87845756c0",
   "metadata": {},
   "outputs": [],
   "source": [
    "users['hireable'] = users['hireable'].fillna(False).astype(bool)\n",
    "# users['hireable'] = users['hireable'].replace(True, 'true')"
   ]
  },
  {
   "cell_type": "code",
   "execution_count": 49,
   "id": "a14993f9-48d3-4956-9cca-d4349c30f649",
   "metadata": {},
   "outputs": [
    {
     "name": "stdout",
     "output_type": "stream",
     "text": [
      "emmabostian,emilk,mpj,hrydgard,eriklindernoren\n"
     ]
    }
   ],
   "source": [
    "top5 = users.sort_values(by='followers', ascending=False).head()\n",
    "print(','.join(top5['login'].tolist()))"
   ]
  },
  {
   "cell_type": "markdown",
   "id": "6cc86ddb-88c3-453c-bf56-29614358b62e",
   "metadata": {},
   "source": [
    "#### Q2. Who are the 5 earliest registered GitHub users in Basel? List their login in ascending order of created_at, comma-separated."
   ]
  },
  {
   "cell_type": "code",
   "execution_count": 50,
   "id": "afe79990-ccd3-4c8d-b184-45de1f19097c",
   "metadata": {},
   "outputs": [],
   "source": [
    "users['created_at'] = pd.to_datetime(users['created_at'])"
   ]
  },
  {
   "cell_type": "code",
   "execution_count": 51,
   "id": "f9645405-1745-4f06-9ba8-681b5c1e51b0",
   "metadata": {},
   "outputs": [
    {
     "name": "stdout",
     "output_type": "stream",
     "text": [
      "Mange,kallepersson,fesplugas,etnt,pirelenito\n"
     ]
    }
   ],
   "source": [
    "top_earliest = users.sort_values(by='created_at').head()\n",
    "print(','.join(top_earliest['login'].tolist()))"
   ]
  },
  {
   "cell_type": "markdown",
   "id": "1675cbcf-6a8b-4af8-b24a-1372f68efd6b",
   "metadata": {},
   "source": [
    "#### Q3. What are the 3 most popular license among these users? Ignore missing licenses. List the license_name in order, comma-separated."
   ]
  },
  {
   "cell_type": "code",
   "execution_count": 54,
   "id": "a139a9a8-9ded-4175-b023-fe871850f3a4",
   "metadata": {},
   "outputs": [
    {
     "data": {
      "text/html": [
       "<div>\n",
       "<style scoped>\n",
       "    .dataframe tbody tr th:only-of-type {\n",
       "        vertical-align: middle;\n",
       "    }\n",
       "\n",
       "    .dataframe tbody tr th {\n",
       "        vertical-align: top;\n",
       "    }\n",
       "\n",
       "    .dataframe thead th {\n",
       "        text-align: right;\n",
       "    }\n",
       "</style>\n",
       "<table border=\"1\" class=\"dataframe\">\n",
       "  <thead>\n",
       "    <tr style=\"text-align: right;\">\n",
       "      <th></th>\n",
       "      <th>login</th>\n",
       "      <th>full_name</th>\n",
       "      <th>created_at</th>\n",
       "      <th>stargazers_count</th>\n",
       "      <th>watchers_count</th>\n",
       "      <th>language</th>\n",
       "      <th>has_projects</th>\n",
       "      <th>has_wiki</th>\n",
       "      <th>license_name</th>\n",
       "    </tr>\n",
       "  </thead>\n",
       "  <tbody>\n",
       "    <tr>\n",
       "      <th>0</th>\n",
       "      <td>emmabostian</td>\n",
       "      <td>emmabostian/badass-conference-talks</td>\n",
       "      <td>2019-08-05T16:42:39Z</td>\n",
       "      <td>488</td>\n",
       "      <td>488</td>\n",
       "      <td>NaN</td>\n",
       "      <td>True</td>\n",
       "      <td>True</td>\n",
       "      <td>NaN</td>\n",
       "    </tr>\n",
       "    <tr>\n",
       "      <th>1</th>\n",
       "      <td>emmabostian</td>\n",
       "      <td>emmabostian/blog</td>\n",
       "      <td>2020-03-24T19:21:47Z</td>\n",
       "      <td>16</td>\n",
       "      <td>16</td>\n",
       "      <td>JavaScript</td>\n",
       "      <td>True</td>\n",
       "      <td>True</td>\n",
       "      <td>mit</td>\n",
       "    </tr>\n",
       "    <tr>\n",
       "      <th>2</th>\n",
       "      <td>emmabostian</td>\n",
       "      <td>emmabostian/bluemix-example</td>\n",
       "      <td>2017-02-23T21:37:24Z</td>\n",
       "      <td>0</td>\n",
       "      <td>0</td>\n",
       "      <td>CSS</td>\n",
       "      <td>True</td>\n",
       "      <td>True</td>\n",
       "      <td>NaN</td>\n",
       "    </tr>\n",
       "    <tr>\n",
       "      <th>3</th>\n",
       "      <td>emmabostian</td>\n",
       "      <td>emmabostian/boilerplate-code</td>\n",
       "      <td>2017-01-04T02:44:57Z</td>\n",
       "      <td>0</td>\n",
       "      <td>0</td>\n",
       "      <td>JavaScript</td>\n",
       "      <td>True</td>\n",
       "      <td>True</td>\n",
       "      <td>NaN</td>\n",
       "    </tr>\n",
       "    <tr>\n",
       "      <th>4</th>\n",
       "      <td>emmabostian</td>\n",
       "      <td>emmabostian/building-a-portfolio-with-gatsby</td>\n",
       "      <td>2019-08-24T18:42:42Z</td>\n",
       "      <td>12</td>\n",
       "      <td>12</td>\n",
       "      <td>CSS</td>\n",
       "      <td>True</td>\n",
       "      <td>True</td>\n",
       "      <td>mit</td>\n",
       "    </tr>\n",
       "  </tbody>\n",
       "</table>\n",
       "</div>"
      ],
      "text/plain": [
       "         login                                     full_name  \\\n",
       "0  emmabostian           emmabostian/badass-conference-talks   \n",
       "1  emmabostian                              emmabostian/blog   \n",
       "2  emmabostian                   emmabostian/bluemix-example   \n",
       "3  emmabostian                  emmabostian/boilerplate-code   \n",
       "4  emmabostian  emmabostian/building-a-portfolio-with-gatsby   \n",
       "\n",
       "             created_at  stargazers_count  watchers_count    language  \\\n",
       "0  2019-08-05T16:42:39Z               488             488         NaN   \n",
       "1  2020-03-24T19:21:47Z                16              16  JavaScript   \n",
       "2  2017-02-23T21:37:24Z                 0               0         CSS   \n",
       "3  2017-01-04T02:44:57Z                 0               0  JavaScript   \n",
       "4  2019-08-24T18:42:42Z                12              12         CSS   \n",
       "\n",
       "   has_projects  has_wiki license_name  \n",
       "0          True      True          NaN  \n",
       "1          True      True          mit  \n",
       "2          True      True          NaN  \n",
       "3          True      True          NaN  \n",
       "4          True      True          mit  "
      ]
     },
     "execution_count": 54,
     "metadata": {},
     "output_type": "execute_result"
    }
   ],
   "source": [
    "repos = pd.read_csv('/Coding/Python/repositories.csv')\n",
    "repos.head()"
   ]
  },
  {
   "cell_type": "code",
   "execution_count": null,
   "id": "72f5e06d-b056-4463-b3e8-363b5edd50a0",
   "metadata": {},
   "outputs": [],
   "source": [
    "# repos['has_wiki'] = repos['has_wiki'].replace({True: 'true', False: 'false'})\n",
    "# repos['has_projects'] = repos['has_projects'].replace({True: 'true', False: 'false'})"
   ]
  },
  {
   "cell_type": "code",
   "execution_count": 55,
   "id": "f5b0a4ce-ae41-4066-a59a-58e81f27ad47",
   "metadata": {},
   "outputs": [
    {
     "data": {
      "text/plain": [
       "license_name\n",
       "mit           6319\n",
       "apache-2.0    2531\n",
       "other         1984\n",
       "Name: count, dtype: int64"
      ]
     },
     "execution_count": 55,
     "metadata": {},
     "output_type": "execute_result"
    }
   ],
   "source": [
    "repos['license_name'].value_counts().head(3)"
   ]
  },
  {
   "cell_type": "markdown",
   "id": "662f1894-2c60-429c-b06d-cbe36afe6f08",
   "metadata": {},
   "source": [
    "#### Q4. Which company do the majority of these developers work at?"
   ]
  },
  {
   "cell_type": "code",
   "execution_count": 56,
   "id": "93a985b2-4e56-4871-9757-23e6ae5ed0de",
   "metadata": {},
   "outputs": [
    {
     "data": {
      "text/plain": [
       "company\n",
       "SPOTIFY    21\n",
       "Name: count, dtype: int64"
      ]
     },
     "execution_count": 56,
     "metadata": {},
     "output_type": "execute_result"
    }
   ],
   "source": [
    "users['company'].value_counts().head(1)"
   ]
  },
  {
   "cell_type": "markdown",
   "id": "3e73104c-f44c-4e59-aecc-cb10a34578a1",
   "metadata": {},
   "source": [
    "#### Q5. Which programming language is most popular among these users?"
   ]
  },
  {
   "cell_type": "code",
   "execution_count": 57,
   "id": "1abcf548-42aa-43fc-837e-86c6db860617",
   "metadata": {},
   "outputs": [
    {
     "data": {
      "text/plain": [
       "language\n",
       "JavaScript    4142\n",
       "Name: count, dtype: int64"
      ]
     },
     "execution_count": 57,
     "metadata": {},
     "output_type": "execute_result"
    }
   ],
   "source": [
    "repos['language'].value_counts().head(1)"
   ]
  },
  {
   "cell_type": "markdown",
   "id": "bf7abc13-3226-4c35-b42e-400f06cac01d",
   "metadata": {},
   "source": [
    "#### Q6. Which programming language is the second most popular among users who joined after 2020?"
   ]
  },
  {
   "cell_type": "code",
   "execution_count": 58,
   "id": "d01727ac-d1de-4407-a65b-db7a88223d81",
   "metadata": {},
   "outputs": [
    {
     "data": {
      "text/html": [
       "<div>\n",
       "<style scoped>\n",
       "    .dataframe tbody tr th:only-of-type {\n",
       "        vertical-align: middle;\n",
       "    }\n",
       "\n",
       "    .dataframe tbody tr th {\n",
       "        vertical-align: top;\n",
       "    }\n",
       "\n",
       "    .dataframe thead th {\n",
       "        text-align: right;\n",
       "    }\n",
       "</style>\n",
       "<table border=\"1\" class=\"dataframe\">\n",
       "  <thead>\n",
       "    <tr style=\"text-align: right;\">\n",
       "      <th></th>\n",
       "      <th>login</th>\n",
       "      <th>name</th>\n",
       "      <th>company</th>\n",
       "      <th>location</th>\n",
       "      <th>email</th>\n",
       "      <th>hireable</th>\n",
       "      <th>bio</th>\n",
       "      <th>public_repos</th>\n",
       "      <th>followers</th>\n",
       "      <th>following</th>\n",
       "      <th>created_at</th>\n",
       "      <th>leader_strength</th>\n",
       "    </tr>\n",
       "  </thead>\n",
       "  <tbody>\n",
       "    <tr>\n",
       "      <th>257</th>\n",
       "      <td>Kerem1989</td>\n",
       "      <td>Kerem Bjälvenäs Tazedal</td>\n",
       "      <td>IT-HÖGSKOLAN</td>\n",
       "      <td>Stockholm, Sweden</td>\n",
       "      <td>NaN</td>\n",
       "      <td>False</td>\n",
       "      <td>👋 Hello there! I'm Kerem, a passionate backend...</td>\n",
       "      <td>14</td>\n",
       "      <td>144</td>\n",
       "      <td>197</td>\n",
       "      <td>2022-01-30 11:12:15+00:00</td>\n",
       "      <td>0.727273</td>\n",
       "    </tr>\n",
       "    <tr>\n",
       "      <th>376</th>\n",
       "      <td>CelikCebrail</td>\n",
       "      <td>Cebrail Celik</td>\n",
       "      <td>NaN</td>\n",
       "      <td>Sweden/Stockholm</td>\n",
       "      <td>NaN</td>\n",
       "      <td>False</td>\n",
       "      <td>Full Stack Developer | React Front-End | React...</td>\n",
       "      <td>4</td>\n",
       "      <td>108</td>\n",
       "      <td>120</td>\n",
       "      <td>2023-12-25 14:42:00+00:00</td>\n",
       "      <td>0.892562</td>\n",
       "    </tr>\n",
       "    <tr>\n",
       "      <th>388</th>\n",
       "      <td>lorainegarutti</td>\n",
       "      <td>Loraine Barcha Garutti</td>\n",
       "      <td>MENTIMETER</td>\n",
       "      <td>Stockholm</td>\n",
       "      <td>loraine.garutti@gmail.com</td>\n",
       "      <td>False</td>\n",
       "      <td>Software Engineer in Test</td>\n",
       "      <td>33</td>\n",
       "      <td>105</td>\n",
       "      <td>45</td>\n",
       "      <td>2020-02-12 04:10:14+00:00</td>\n",
       "      <td>2.282609</td>\n",
       "    </tr>\n",
       "    <tr>\n",
       "      <th>403</th>\n",
       "      <td>BullishVince</td>\n",
       "      <td>Vincent W</td>\n",
       "      <td>NaN</td>\n",
       "      <td>Stockholm, Sweden</td>\n",
       "      <td>NaN</td>\n",
       "      <td>False</td>\n",
       "      <td>🧠  💻</td>\n",
       "      <td>36</td>\n",
       "      <td>101</td>\n",
       "      <td>7</td>\n",
       "      <td>2020-02-29 22:37:37+00:00</td>\n",
       "      <td>12.625000</td>\n",
       "    </tr>\n",
       "  </tbody>\n",
       "</table>\n",
       "</div>"
      ],
      "text/plain": [
       "              login                     name       company           location  \\\n",
       "257       Kerem1989  Kerem Bjälvenäs Tazedal  IT-HÖGSKOLAN  Stockholm, Sweden   \n",
       "376    CelikCebrail            Cebrail Celik           NaN   Sweden/Stockholm   \n",
       "388  lorainegarutti   Loraine Barcha Garutti    MENTIMETER          Stockholm   \n",
       "403    BullishVince                Vincent W           NaN  Stockholm, Sweden   \n",
       "\n",
       "                         email  hireable  \\\n",
       "257                        NaN     False   \n",
       "376                        NaN     False   \n",
       "388  loraine.garutti@gmail.com     False   \n",
       "403                        NaN     False   \n",
       "\n",
       "                                                   bio  public_repos  \\\n",
       "257  👋 Hello there! I'm Kerem, a passionate backend...            14   \n",
       "376  Full Stack Developer | React Front-End | React...             4   \n",
       "388                          Software Engineer in Test            33   \n",
       "403                                               🧠  💻            36   \n",
       "\n",
       "     followers  following                created_at  leader_strength  \n",
       "257        144        197 2022-01-30 11:12:15+00:00         0.727273  \n",
       "376        108        120 2023-12-25 14:42:00+00:00         0.892562  \n",
       "388        105         45 2020-02-12 04:10:14+00:00         2.282609  \n",
       "403        101          7 2020-02-29 22:37:37+00:00        12.625000  "
      ]
     },
     "execution_count": 58,
     "metadata": {},
     "output_type": "execute_result"
    }
   ],
   "source": [
    "users_after_2020 = users[users['created_at'] > '2020-01-01']\n",
    "users_after_2020.head()"
   ]
  },
  {
   "cell_type": "code",
   "execution_count": 59,
   "id": "aee537b6-38c7-4aa5-baae-c398fe385053",
   "metadata": {},
   "outputs": [
    {
     "data": {
      "text/plain": [
       "language\n",
       "JavaScript    22\n",
       "TypeScript     9\n",
       "HTML           7\n",
       "Java           6\n",
       "C#             6\n",
       "Name: count, dtype: int64"
      ]
     },
     "execution_count": 59,
     "metadata": {},
     "output_type": "execute_result"
    }
   ],
   "source": [
    "repos_2020 = repos[repos['login'].isin(users_after_2020['login'].tolist())]\n",
    "repos_2020['language'].value_counts().head()"
   ]
  },
  {
   "cell_type": "markdown",
   "id": "d0b07a2f-bcae-496b-ab7e-188a2f0aa7be",
   "metadata": {},
   "source": [
    "#### Q7. Which language has the highest average number of stars per repository? "
   ]
  },
  {
   "cell_type": "code",
   "execution_count": 60,
   "id": "8c8a119a-e562-4855-8330-23b6dccdfea9",
   "metadata": {},
   "outputs": [
    {
     "name": "stdout",
     "output_type": "stream",
     "text": [
      "jq 188.5\n"
     ]
    }
   ],
   "source": [
    "avg_stars = repos.groupby('language')['stargazers_count'].mean()\n",
    "top_lang = avg_stars.idxmax()\n",
    "top_stars = avg_stars.max()\n",
    "print(top_lang, top_stars)"
   ]
  },
  {
   "cell_type": "markdown",
   "id": "e430846a-1518-409f-8717-cb2f84570460",
   "metadata": {},
   "source": [
    "#### Q8. Let's define leader_strength as followers / (1 + following). Who are the top 5 in terms of leader_strength? List their login in order, comma-separated."
   ]
  },
  {
   "cell_type": "code",
   "execution_count": 61,
   "id": "aa51b046-149f-4ef5-89ff-62586043992c",
   "metadata": {},
   "outputs": [
    {
     "name": "stdout",
     "output_type": "stream",
     "text": [
      "spotify,Mojang,fornwall,joearms,EmbarkStudios\n"
     ]
    }
   ],
   "source": [
    "users['leader_strength'] = users['followers'] / (1 + users['following'])\n",
    "top5_lead = users.sort_values(by='leader_strength', ascending=False).head()\n",
    "print(','.join(top5_lead['login'].tolist()))"
   ]
  },
  {
   "cell_type": "markdown",
   "id": "8dd87be3-3a61-4fe1-ab5c-1ef836c545d3",
   "metadata": {},
   "source": [
    "#### Q9. What is the correlation between the number of followers and the number of public repositories among users in Basel?"
   ]
  },
  {
   "cell_type": "code",
   "execution_count": 62,
   "id": "91e8b274-bde5-41ac-91d2-d965334f2d35",
   "metadata": {},
   "outputs": [
    {
     "data": {
      "text/plain": [
       "0.03320216863983812"
      ]
     },
     "execution_count": 62,
     "metadata": {},
     "output_type": "execute_result"
    }
   ],
   "source": [
    "correlation = users['followers'].corr(users['public_repos'])\n",
    "correlation"
   ]
  },
  {
   "cell_type": "markdown",
   "id": "23dac608-8b88-48d8-aeae-1e11b2cb2b87",
   "metadata": {},
   "source": [
    "#### Q10. Does creating more repos help users get more followers? Using regression, estimate how many additional followers a user gets per additional public repository."
   ]
  },
  {
   "cell_type": "code",
   "execution_count": 63,
   "id": "9eede565-f813-4807-989b-051201f7f411",
   "metadata": {},
   "outputs": [
    {
     "name": "stdout",
     "output_type": "stream",
     "text": [
      "0.217\n"
     ]
    }
   ],
   "source": [
    "import csv\n",
    "followers = []\n",
    "public_repos = []\n",
    "with open('/Coding/Python/users.csv', 'r', encoding='utf-8') as file:\n",
    "    reader = csv.DictReader(file)\n",
    "    for row in reader:\n",
    "        followers_count = int(row['followers'])\n",
    "        public_repos_count = int(row['public_repos'])\n",
    "        followers.append(followers_count)\n",
    "        public_repos.append(public_repos_count)\n",
    "if len(followers) > 1 and len(public_repos) > 1:\n",
    "    slope, intercept = np.polyfit(public_repos, followers, 1)\n",
    "    \n",
    "    print(f\"{slope:.3f}\")\n",
    "else:\n",
    "    print(\"Error\")"
   ]
  },
  {
   "cell_type": "markdown",
   "id": "b1739602-5cef-48d6-a3ef-3ecc1d12f405",
   "metadata": {},
   "source": [
    "#### Q11. Do people typically enable projects and wikis together? What is the correlation between a repo having projects enabled and having wiki enabled?"
   ]
  },
  {
   "cell_type": "code",
   "execution_count": 64,
   "id": "e680160d-cfa3-42ef-be27-55a772b77171",
   "metadata": {},
   "outputs": [
    {
     "data": {
      "text/plain": [
       "0.3878660415788883"
      ]
     },
     "execution_count": 64,
     "metadata": {},
     "output_type": "execute_result"
    }
   ],
   "source": [
    "correlation = repos['has_projects'].corr(repos['has_wiki'])\n",
    "correlation"
   ]
  },
  {
   "cell_type": "markdown",
   "id": "2d802a11",
   "metadata": {},
   "source": []
  },
  {
   "cell_type": "markdown",
   "id": "3efb0e1c",
   "metadata": {},
   "source": []
  },
  {
   "cell_type": "markdown",
   "id": "7d1c5de4-b714-46e2-af6a-ad41e8a42f8f",
   "metadata": {},
   "source": [
    "#### Q12. Do hireable users follow more people than those who are not hireable?"
   ]
  },
  {
   "cell_type": "code",
   "execution_count": 65,
   "id": "cd51bed6-bba7-4407-94a9-ccc5e3968b4d",
   "metadata": {},
   "outputs": [
    {
     "data": {
      "text/plain": [
       "48.58549783549783"
      ]
     },
     "execution_count": 65,
     "metadata": {},
     "output_type": "execute_result"
    }
   ],
   "source": [
    "hireable_avg_following = users[users['hireable'] == True]['following'].mean()\n",
    "non_hireable_avg_following = users[users['hireable'] == False]['following'].mean()\n",
    "difference = hireable_avg_following - non_hireable_avg_following\n",
    "difference"
   ]
  },
  {
   "cell_type": "markdown",
   "id": "1f30dbcf-90f2-4531-b37c-0386828e1f9f",
   "metadata": {},
   "source": [
    "#### Q13. Some developers write long bios. Does that help them get more followers? What's the correlation of the length of their bio (in Unicode characters) with followers? (Ignore people without bios)"
   ]
  },
  {
   "cell_type": "code",
   "execution_count": 66,
   "id": "a324c8b4-9faf-4f4d-9c3d-0813e6bdbfb8",
   "metadata": {},
   "outputs": [
    {
     "data": {
      "text/plain": [
       "0.6845146235219804"
      ]
     },
     "execution_count": 66,
     "metadata": {},
     "output_type": "execute_result"
    }
   ],
   "source": [
    "from sklearn.linear_model import LinearRegression\n",
    "users_with_bio = users[(users['bio'].notna()) & (users['bio'] != '')].copy()\n",
    "users_with_bio.loc[:, 'bio_len'] = users_with_bio['bio'].str.len()\n",
    "\n",
    "X = users_with_bio['bio_len'].values.reshape(-1,1)\n",
    "y = users_with_bio['followers']\n",
    "\n",
    "lr2 = LinearRegression()\n",
    "lr2.fit(X, y)\n",
    "lr2.coef_[0]"
   ]
  },
  {
   "cell_type": "markdown",
   "id": "96cb22e4-4046-40cf-9be5-06f096b0f0c3",
   "metadata": {},
   "source": [
    "#### Q14. Who created the most repositories on weekends (UTC)? List the top 5 users' login in order, comma-separated"
   ]
  },
  {
   "cell_type": "code",
   "execution_count": null,
   "id": "ab49dafe-2981-4fe1-b603-0bee0e61e04f",
   "metadata": {},
   "outputs": [
    {
     "name": "stdout",
     "output_type": "stream",
     "text": [
      "HaraldNordgren,jamesmcm,satansdeer,jakobmattsson,MaikKlein\n"
     ]
    }
   ],
   "source": [
    "import csv\n",
    "from collections import Counter\n",
    "from datetime import datetime\n",
    "\n",
    "weekend_repo_counts = Counter()\n",
    "\n",
    "with open('/Coding/Python/repositories.csv', 'r', encoding='utf-8') as file:\n",
    "    reader = csv.DictReader(file)\n",
    "    \n",
    "    for row in reader:\n",
    "        created_at = row.get('created_at', '')\n",
    "        if created_at:\n",
    "            created_date = datetime.fromisoformat(created_at[:-1])  \n",
    "            \n",
    "            if created_date.weekday() in [5, 6]:\n",
    "                user_login = row['login']\n",
    "                weekend_repo_counts[user_login] += 1  \n",
    "\n",
    "top_users = weekend_repo_counts.most_common(5)\n",
    "\n",
    "top_logins = [user[0] for user in top_users]\n",
    "\n",
    "print(','.join(top_logins))"
   ]
  },
  {
   "cell_type": "markdown",
   "id": "6d9da60a-2ff0-4421-808e-ab9a74bf02fb",
   "metadata": {},
   "source": [
    "#### Q15. Do people who are hireable share their email addresses more often?"
   ]
  },
  {
   "cell_type": "code",
   "execution_count": 67,
   "id": "b8381831-d1ed-4855-afc2-97ad1c06a1af",
   "metadata": {},
   "outputs": [
    {
     "data": {
      "text/plain": [
       "0.17568542568542567"
      ]
     },
     "execution_count": 67,
     "metadata": {},
     "output_type": "execute_result"
    }
   ],
   "source": [
    "fraction_hierable = users[users['hireable'] == True]['email'].notna().mean()\n",
    "fraction_non_hierable = users[users['hireable'] == False]['email'].notna().mean()\n",
    "diff = fraction_hierable - fraction_non_hierable\n",
    "diff"
   ]
  },
  {
   "cell_type": "markdown",
   "id": "806a227e-1285-4c5f-bb05-867a3fd5101a",
   "metadata": {},
   "source": [
    "#### Q16. Let's assume that the last word in a user's name is their surname (ignore missing names, trim and split by whitespace.) What's the most common surname? (If there's a tie, list them all, comma-separated, alphabetically)"
   ]
  },
  {
   "cell_type": "code",
   "execution_count": null,
   "id": "01a24dfb-05cc-4528-b118-558b2307639c",
   "metadata": {},
   "outputs": [
    {
     "name": "stdout",
     "output_type": "stream",
     "text": [
      "Singh\n"
     ]
    }
   ],
   "source": [
    "new_users = users[users['name'].notna()].copy()\n",
    "new_users['surname'] = new_users['name'].str.split().str[-1].str.strip()\n",
    "surname_counts = new_users['surname'].value_counts()\n",
    "max_count = surname_counts.max()\n",
    "common_surnames = surname_counts[surname_counts == max_count].index.tolist()\n",
    "common_surnames.sort()\n",
    "print(','.join(common_surnames))"
   ]
  },
  {
   "cell_type": "code",
   "execution_count": null,
   "id": "5040c050",
   "metadata": {},
   "outputs": [],
   "source": [
    "users = users.fillna(\"\").astype(str)\n",
    "repos = repos.fillna(\"\").astype(str)\n",
    "\n",
    "repos['has_wiki'] = repos['has_wiki'].astype(str).replace({'True': 'true', 'False': 'false'})\n",
    "repos['has_projects'] = repos['has_projects'].astype(str).replace({'True': 'true', 'False': 'false'})\n",
    "\n",
    "\n",
    "users.to_csv('users1.csv', index=False)\n",
    "repos.to_csv('repos1.csv', index=False)"
   ]
  },
  {
   "cell_type": "code",
   "execution_count": null,
   "id": "552e5030",
   "metadata": {},
   "outputs": [],
   "source": [
    "users['hireable'] = users['hireable'].astype(str).replace({'True': 'true', 'False': 'false'})\n",
    "users.to_csv('users1.csv', index=False)"
   ]
  },
  {
   "cell_type": "code",
   "execution_count": 10,
   "id": "5d523e87",
   "metadata": {},
   "outputs": [],
   "source": [
    "import pandas as pd\n",
    "\n",
    "# Load the original file\n",
    "repos = pd.read_csv('repositories.csv')\n",
    "\n",
    "# Convert all values in 'has_wiki' and 'has_projects' columns to lowercase strings 'true' and 'false'\n",
    "repos['has_wiki'] = repos['has_wiki'].apply(lambda x: 'true' if str(x).strip() == 'True' else 'false' if str(x).strip() == 'False' else x)\n",
    "repos['has_projects'] = repos['has_projects'].apply(lambda x: 'true' if str(x).strip() == 'True' else 'false' if str(x).strip() == 'False' else x)\n",
    "\n",
    "# Save the modified data to a new CSV file\n",
    "repos.to_csv('repos1.csv', index=False)\n"
   ]
  }
 ],
 "metadata": {
  "kernelspec": {
   "display_name": "Python 3",
   "language": "python",
   "name": "python3"
  },
  "language_info": {
   "codemirror_mode": {
    "name": "ipython",
    "version": 3
   },
   "file_extension": ".py",
   "mimetype": "text/x-python",
   "name": "python",
   "nbconvert_exporter": "python",
   "pygments_lexer": "ipython3",
   "version": "3.12.7"
  }
 },
 "nbformat": 4,
 "nbformat_minor": 5
}
